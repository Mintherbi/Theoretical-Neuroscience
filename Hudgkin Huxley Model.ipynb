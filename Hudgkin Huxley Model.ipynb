{
 "cells": [
  {
   "cell_type": "code",
   "execution_count": 12,
   "id": "9aec5040",
   "metadata": {},
   "outputs": [],
   "source": [
    "import numpy as np\n",
    "import matplotlib.pyplot as plt\n",
    "import math"
   ]
  },
  {
   "cell_type": "code",
   "execution_count": 19,
   "id": "a5797ec1",
   "metadata": {},
   "outputs": [],
   "source": [
    "C_M     = 10        #nF/mm^2\n",
    "\n",
    "### Initial Values\n",
    "V_INIT  = -65       #mV\n",
    "M_INIT  = 0.0529\n",
    "H_INIT  = 0.5961\n",
    "N_INIT  = 0.3177\n",
    "\n",
    "### Maximal Conductance\n",
    "G_L     = 0.003\n",
    "G_NA    = 1.2\n",
    "G_K     = 0.36\n",
    "E_L     = -54.387\n",
    "E_K     = -77\n",
    "E_NA    = 50\n",
    "\n",
    "DT      = 0.01\n",
    "TOTAL   = 100"
   ]
  },
  {
   "cell_type": "code",
   "execution_count": 21,
   "id": "75625246",
   "metadata": {},
   "outputs": [],
   "source": [
    "def HudgkinHuxleyModel(I_c2A, T=TOTAL, dt = DT, \n",
    "                       V_init=V_INIT, m_init=M_INIT, h_init=H_INIT, n_init=N_INIT,\n",
    "                       c_m=C_M, g_l=G_L, g_na=G_NA, g_k=G_K, E_l=E_L, E_k=E_K, E_na=E_NA):\n",
    "    N = int(T/DT)\n",
    "    V = np.zeros(N);     V[0]=V_init\n",
    "    i_m = np.zeros(N)\n",
    "    '''\n",
    "    alpha_n = np.zero(N); alpha_n[0]=Alpha_N(V_init)\n",
    "    beta_n = np.zero(N); beta_n[0]=Beta_N(V_init)\n",
    "    alpha_m = np.zero(N); alpha_m[0]=Alpha_M(V_init)\n",
    "    beta_m = np.zero(N); beta_m[0]=Beta_M(V_init)\n",
    "    alpha_h = np.zero(N); alpha_h[0]=Alpha_H(V_init)\n",
    "    beta_h = np.zero(N); beta_h[0]=Beta_H(V_init)\n",
    "    '''\n",
    "    tau_n = np.zeros(N)     \n",
    "    n_infty = np.zeros(N)  \n",
    "    tau_m = np.zeros(N)    \n",
    "    m_infty = np.zeros(N)\n",
    "    tau_h = np.zeros(N)   \n",
    "    h_infty = np.zeros(N)  \n",
    "\n",
    "    n = np.zeros(N);         n[0]=n_init\n",
    "    m = np.zeros(N);         m[0]=m_init\n",
    "    h = np.zeros(N);         h[0]=h_init\n",
    "\n",
    "    for i in range(N-1):\n",
    "        tau_n[i] = Tau_X(Alpha_N(V[i]), Beta_N(V[i]))\n",
    "        n_infty[i] = X_Infty(Alpha_N(V[i]), Beta_N(V[i]))\n",
    "        tau_m[i] = Tau_X(Alpha_M(V[i]), Beta_M(V[i]))\n",
    "        m_infty[i] = X_Infty(Alpha_M(V[i]), Beta_M(V[i]))\n",
    "        tau_h[i] = Tau_X(Alpha_H(V[i]), Beta_H(V[i]))\n",
    "        h_infty[i] = X_Infty(Alpha_H(V[i]), Beta_H(V[i]))\n",
    "\n",
    "        n[i+1] = n[i] + (dt/tau_n[i])*(n_infty[i]-n[i])\n",
    "        m[i+1] = m[i] + (dt/tau_m[i])*(m_infty[i]-m[i])\n",
    "        h[i+1] = h[i] + (dt/tau_h[i])*(h_infty[i]-h[i])\n",
    "\n",
    "        i_m[i+1] = g_l*(V[i]-E_l) + g_k*math.pow(n[i+1],4)*(V[i]-E_k) + g_na*math.pow(m[i+1],3)*h[i+1]*(V[i]-E_na)\n",
    "        V[i+1] = V[i] + (dt/c_m)*(-1*i_m[i+1] + I_c2A)\n",
    "    \n",
    "    return V, n, m, h #, tau_n, tau_m, tau_h, n_infty, m_infty, h_infty\n",
    "\n",
    "\n",
    "\n",
    "def Alpha_N(V):\n",
    "    return 0.1*(V+55)/(1-math.exp(-0.1*(V+55)))\n",
    "\n",
    "def Beta_N(V):\n",
    "    return 0.125*math.exp(-0.0125*(V+65))\n",
    "\n",
    "def Alpha_M(V):\n",
    "    return 0.1*(V+40)/(1-math.exp(-0.1*(V+40)))\n",
    "\n",
    "def Beta_M(V):\n",
    "    return 4*math.exp(-0.0556*(V+65))\n",
    "\n",
    "def Alpha_H(V):\n",
    "    return 0.07*math.exp(-0.05*(V+65))\n",
    "\n",
    "def Beta_H(V):\n",
    "    return 1/(1-math.exp(-0.1*(V+35)))\n",
    "\n",
    "\n",
    "def Tau_X(Alpha, Beta):\n",
    "    return 1/(Alpha+Beta)\n",
    "\n",
    "def X_Infty(Alpha, Beta):\n",
    "    return Alpha/(Alpha+Beta)"
   ]
  },
  {
   "cell_type": "markdown",
   "id": "27426f6d",
   "metadata": {},
   "source": [
    "a) Use an external current with Ie/A = 200 nA/mm2 and plot V, m, h, and n as functions of time for a suitable interval."
   ]
  },
  {
   "cell_type": "code",
   "execution_count": 25,
   "id": "ee5ca9fd",
   "metadata": {},
   "outputs": [
    {
     "data": {
      "text/plain": [
       "[<matplotlib.lines.Line2D at 0x28735ba3d40>]"
      ]
     },
     "execution_count": 25,
     "metadata": {},
     "output_type": "execute_result"
    },
    {
     "data": {
      "image/png": "[encoded data removed]",
      "text/plain": [
       "<Figure size 640x480 with 1 Axes>"
      ]
     },
     "metadata": {},
     "output_type": "display_data"
    }
   ],
   "source": [
    "V, m, h, n = HudgkinHuxleyModel(200)\n",
    "\n",
    "plt.plot(h)"
   ]
  },
  {
   "cell_type": "markdown",
   "id": "38696d2e",
   "metadata": {},
   "source": [
    "b) Plot the firing rate of the model as a function of Ie/A over the range from 0 to 500nA/mm2."
   ]
  },
  {
   "cell_type": "code",
   "execution_count": null,
   "id": "fbfe8919",
   "metadata": {},
   "outputs": [],
   "source": []
  },
  {
   "cell_type": "markdown",
   "id": "3e0f20c9",
   "metadata": {},
   "source": [
    "c) Apply a pulse of negative current with Ie/A = −50 nA/mm2 for 5 ms followed by Ie/A = 0 and show what happens. Why does this occur?"
   ]
  },
  {
   "cell_type": "code",
   "execution_count": null,
   "id": "71823377",
   "metadata": {},
   "outputs": [],
   "source": []
  }
 ],
 "metadata": {
  "kernelspec": {
   "display_name": "Neuro",
   "language": "python",
   "name": "python3"
  },
  "language_info": {
   "codemirror_mode": {
    "name": "ipython",
    "version": 3
   },
   "file_extension": ".py",
   "mimetype": "text/x-python",
   "name": "python",
   "nbconvert_exporter": "python",
   "pygments_lexer": "ipython3",
   "version": "3.12.11"
  }
 },
 "nbformat": 4,
 "nbformat_minor": 5
}
